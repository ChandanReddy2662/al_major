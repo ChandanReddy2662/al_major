{
 "cells": [
  {
   "cell_type": "code",
   "execution_count": 14,
   "metadata": {},
   "outputs": [
    {
     "name": "stdout",
     "output_type": "stream",
     "text": [
      "Model Accuracy: 89.00%\n"
     ]
    },
    {
     "data": {
      "text/plain": [
       "['label_encoder.pkl']"
      ]
     },
     "execution_count": 14,
     "metadata": {},
     "output_type": "execute_result"
    }
   ],
   "source": [
    "import os\n",
    "import numpy as np\n",
    "from PIL import Image  # Using PIL instead of cv2\n",
    "from sklearn.model_selection import train_test_split\n",
    "from sklearn.preprocessing import LabelEncoder\n",
    "from sklearn.tree import DecisionTreeClassifier\n",
    "from sklearn.svm import SVC\n",
    "from sklearn.linear_model import LogisticRegression\n",
    "from sklearn.neighbors import KNeighborsClassifier\n",
    "from sklearn.metrics import accuracy_score\n",
    "\n",
    "# Define dataset path\n",
    "dataset_path = \"./../archive (6)/fire_dataset\"\n",
    "\n",
    "# Define image size\n",
    "IMG_SIZE = (64, 64)  # Resize images to 64x64\n",
    "\n",
    "# Load dataset\n",
    "def load_images(dataset_path):\n",
    "    images = []\n",
    "    labels = []\n",
    "\n",
    "    for label in os.listdir(dataset_path):\n",
    "        class_path = os.path.join(dataset_path, label)\n",
    "\n",
    "        if os.path.isdir(class_path):  # Ensure it's a directory\n",
    "            for file in os.listdir(class_path):\n",
    "                img_path = os.path.join(class_path, file)\n",
    "                try:\n",
    "                    # Open image using PIL\n",
    "                    img = Image.open(img_path).convert(\"RGB\")  # Convert to RGB\n",
    "                    img = img.resize(IMG_SIZE)  # Resize\n",
    "                    img_array = np.array(img).flatten()  # Convert to numpy array and flatten\n",
    "                    \n",
    "                    images.append(img_array)\n",
    "                    labels.append(label)\n",
    "                except Exception as e:\n",
    "                    print(f\"Error loading {img_path}: {e}\")\n",
    "\n",
    "    return np.array(images), np.array(labels)\n",
    "\n",
    "# Load images and labels\n",
    "X, y = load_images(dataset_path)\n",
    "\n",
    "# Encode labels (fire -> 0, non_fire -> 1)\n",
    "label_encoder = LabelEncoder()\n",
    "y = label_encoder.fit_transform(y)\n",
    "\n",
    "# Split dataset (80% train, 20% test)\n",
    "X_train, X_test, y_train, y_test = train_test_split(X, y, test_size=0.2, random_state=42)\n",
    "\n",
    "# Choose a classifier (uncomment the one you want to use)\n",
    "\n",
    "# model = DecisionTreeClassifier()\n",
    "# model = SVC()  # Support Vector Machine\n",
    "# model = LogisticRegression(max_iter=1000)  # Logistic Regression\n",
    "model = KNeighborsClassifier(n_neighbors=3)  # K-Nearest Neighbors\n",
    "\n",
    "# Train model\n",
    "model.fit(X_train, y_train)\n",
    "\n",
    "# Predict on test set\n",
    "y_pred = model.predict(X_test)\n",
    "\n",
    "# Calculate accuracy\n",
    "accuracy = accuracy_score(y_test, y_pred)\n",
    "print(f\"Model Accuracy: {accuracy * 100:.2f}%\")\n",
    "\n",
    "\n",
    "joblib.dump(model, \"fire_detector.pkl\")\n",
    "joblib.dump(label_encoder, \"label_encoder.pkl\")  # Save lab\n"
   ]
  },
  {
   "cell_type": "code",
   "execution_count": 15,
   "metadata": {},
   "outputs": [
    {
     "name": "stdout",
     "output_type": "stream",
     "text": [
      "Requirement already satisfied: joblib in d:\\ajith\\agf\\venv\\lib\\site-packages (1.4.2)\n",
      "Note: you may need to restart the kernel to use updated packages.\n"
     ]
    },
    {
     "name": "stderr",
     "output_type": "stream",
     "text": [
      "\n",
      "[notice] A new release of pip available: 22.3.1 -> 25.0.1\n",
      "[notice] To update, run: python.exe -m pip install --upgrade pip\n"
     ]
    }
   ],
   "source": [
    "pip install joblib\n"
   ]
  },
  {
   "cell_type": "code",
   "execution_count": 16,
   "metadata": {},
   "outputs": [
    {
     "data": {
      "text/plain": [
       "['fire_detection_svm.pkl']"
      ]
     },
     "execution_count": 16,
     "metadata": {},
     "output_type": "execute_result"
    }
   ],
   "source": [
    "\n",
    "import joblib\n",
    "joblib.dump(model, \"fire_detection_svm.pkl\")"
   ]
  },
  {
   "cell_type": "code",
   "execution_count": 17,
   "metadata": {},
   "outputs": [
    {
     "name": "stdout",
     "output_type": "stream",
     "text": [
      "Requirement already satisfied: opencv-python in d:\\ajith\\agf\\venv\\lib\\site-packages (4.11.0.86)\n",
      "Requirement already satisfied: numpy>=1.19.3 in d:\\ajith\\agf\\venv\\lib\\site-packages (from opencv-python) (2.0.2)\n",
      "Note: you may need to restart the kernel to use updated packages.\n"
     ]
    },
    {
     "name": "stderr",
     "output_type": "stream",
     "text": [
      "\n",
      "[notice] A new release of pip available: 22.3.1 -> 25.0.1\n",
      "[notice] To update, run: python.exe -m pip install --upgrade pip\n"
     ]
    }
   ],
   "source": [
    "pip install opencv-python\n"
   ]
  },
  {
   "cell_type": "code",
   "execution_count": 18,
   "metadata": {},
   "outputs": [
    {
     "name": "stdout",
     "output_type": "stream",
     "text": [
      "Predicted Class: fire_images\n"
     ]
    }
   ],
   "source": [
    "import numpy as np\n",
    "from PIL import Image\n",
    "import joblib\n",
    "\n",
    "# Load the trained model and label encoder\n",
    "model = joblib.load(\"fire_detector.pkl\")\n",
    "label_encoder = joblib.load(\"label_encoder.pkl\")\n",
    "\n",
    "# Image size\n",
    "IMG_SIZE = (64, 64)\n",
    "\n",
    "# Function to predict a single image\n",
    "def predict_image(image_path):\n",
    "    try:\n",
    "        # Load image\n",
    "        img = Image.open(image_path).convert(\"RGB\")\n",
    "        img = img.resize(IMG_SIZE)\n",
    "        img_array = np.array(img).flatten().reshape(1, -1)  # Flatten and reshape\n",
    "\n",
    "        # Predict\n",
    "        prediction = model.predict(img_array)[0]\n",
    "\n",
    "        # Get label name\n",
    "        label = label_encoder.inverse_transform([prediction])[0]\n",
    "        print(f\"Predicted Class: {label}\")\n",
    "\n",
    "    except Exception as e:\n",
    "        print(f\"Error processing image: {e}\")\n",
    "\n",
    "# Test an image\n",
    "image_path = \"./../image.png\"  # Replace with the path to your test image\n",
    "predict_image(image_path)\n",
    "\n"
   ]
  },
  {
   "cell_type": "code",
   "execution_count": null,
   "metadata": {},
   "outputs": [],
   "source": []
  }
 ],
 "metadata": {
  "kernelspec": {
   "display_name": "venv",
   "language": "python",
   "name": "python3"
  },
  "language_info": {
   "codemirror_mode": {
    "name": "ipython",
    "version": 3
   },
   "file_extension": ".py",
   "mimetype": "text/x-python",
   "name": "python",
   "nbconvert_exporter": "python",
   "pygments_lexer": "ipython3",
   "version": "3.10.9"
  }
 },
 "nbformat": 4,
 "nbformat_minor": 2
}
